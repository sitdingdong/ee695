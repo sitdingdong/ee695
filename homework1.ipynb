{
 "cells": [
  {
   "cell_type": "markdown",
   "metadata": {
    "collapsed": true
   },
   "source": [
    "# Assignment one Machine learing - Alhussain Almarhabi\n",
    "## ID: 10423276"
   ]
  },
  {
   "cell_type": "markdown",
   "metadata": {},
   "source": [
    "In this homework, we write a program to find the coefficients for a linear regression model. You need to\n",
    "use Python to implement the following methods of finding the coefficients:\n",
    "<br>\n",
    "1) Normal equation, and <br>\n",
    "2) Gradient descent (batch or stochastic mode)<br>\n",
    "      a) Print the cost function over iterations <br>\n",
    "      b) Describe how you choose the right alpha (learning rate).<br>\n",
    "Please summarize the results: for example, the confidence interval of the estimated coefficients.<br>\n",
    "A simulated dataset will be provided, you job is to find the coefficients that can accurately estimate the\n",
    "true coefficients. Your solution should be 2 for intercept and 3, 4 for two coefficients.<br>\n",
    "Please do NOT use the fit() function of the Scikit-Learn library in your program.\n"
   ]
  },
  {
   "cell_type": "code",
   "execution_count": 1,
   "metadata": {
    "collapsed": true
   },
   "outputs": [],
   "source": [
    "import numpy as np \n",
    "import matplotlib.pyplot as plt\n",
    "from mpl_toolkits.mplot3d import Axes3D"
   ]
  },
  {
   "cell_type": "markdown",
   "metadata": {},
   "source": [
    "# Part One - Normal equation "
   ]
  },
  {
   "cell_type": "code",
   "execution_count": 2,
   "metadata": {},
   "outputs": [
    {
     "data": {
      "text/plain": [
       "array([[ 2.09011548],\n",
       "       [ 3.016745  ],\n",
       "       [ 3.99872582]])"
      ]
     },
     "execution_count": 2,
     "metadata": {},
     "output_type": "execute_result"
    }
   ],
   "source": [
    "import numpy as np\n",
    "x1 = 2*np.random.rand(100,1)\n",
    "x2 = 2*np.random.rand(100,1)\n",
    "y = 3*x1+4*x2+np.random.randn(100,1)+2\n",
    "X= np.column_stack((x1,x2))\n",
    "X_b1 = np.c_[np.ones((100,1)), X]\n",
    "cofft = np.linalg.inv(X_b1.T.dot(X_b1)).dot(X_b1.T).dot(y) # applying normal equation to find cofficient \n",
    "cofft"
   ]
  },
  {
   "cell_type": "code",
   "execution_count": 3,
   "metadata": {},
   "outputs": [
    {
     "data": {
      "image/png": "[encoded data removed]",
      "text/plain": [
       "<matplotlib.figure.Figure at 0x114274240>"
      ]
     },
     "metadata": {},
     "output_type": "display_data"
    }
   ],
   "source": [
    "#top view for the simulated data between x1 and y \n",
    "plt.scatter(x1,y)\n",
    "plt.show()"
   ]
  },
  {
   "cell_type": "markdown",
   "metadata": {},
   "source": [
    "# Part two - Gradient decent (Batch or stochastic mode)"
   ]
  },
  {
   "cell_type": "code",
   "execution_count": 4,
   "metadata": {
    "scrolled": true
   },
   "outputs": [
    {
     "name": "stdout",
     "output_type": "stream",
     "text": [
      "\n",
      " cofft2 is [[ 2.10197848]\n",
      " [ 3.01276185]\n",
      " [ 3.99211262]]\n"
     ]
    }
   ],
   "source": [
    "alph =0.05 # learning rate 0.01,0.05,0.1 (negative) 0.5 (positive but small) 0.8\n",
    "n_iterations = 1000\n",
    "m = 250 # arbitrary selected size: 50 100 150 250\n",
    "cofft2 = np.random.randn(3,1) # random initialization\n",
    "for iteration in range(n_iterations):\n",
    "    gradients = 2/m * X_b1.T.dot(X_b1.dot(cofft2) - y)\n",
    "    cofft2 = cofft2 - alph * gradients\n",
    "    #print(gradients)\n",
    "print('\\n cofft2 is', cofft2)"
   ]
  },
  {
   "cell_type": "markdown",
   "metadata": {},
   "source": [
    "# Plot at learning rate = 0.01"
   ]
  },
  {
   "cell_type": "code",
   "execution_count": 8,
   "metadata": {},
   "outputs": [
    {
     "name": "stdout",
     "output_type": "stream",
     "text": [
      "\n",
      " cofft2 is [[ 2.0692336]\n",
      " [ 3.0239572]\n",
      " [ 4.0101879]]\n"
     ]
    },
    {
     "data": {
      "image/png": "[encoded data removed]",
      "text/plain": [
       "<matplotlib.figure.Figure at 0x11c55de48>"
      ]
     },
     "metadata": {},
     "output_type": "display_data"
    }
   ],
   "source": [
    "alph =0.01 # learning rate 0.01,0.05,0.1 (negative) 0.5 (positive but small) 0.8\n",
    "n_iterations = 1000\n",
    "m = len(y) # arbitrary selected size: 50 100 150 250\n",
    "costf_history = [0]* n_iterations\n",
    "i = 0\n",
    "\n",
    "cofft2 = np.random.randn(3,1) # random initialization\n",
    "for iteration in range(n_iterations):\n",
    "    gradients = (2/m) * X_b1.T.dot(X_b1.dot(cofft2) - y)\n",
    "    for i in range(m):\n",
    "        costf =((1/m) * np.sum(cofft2.T.dot(X_b1[i]) - y[i])**2)\n",
    "    costf_history[iteration] = costf\n",
    "    cofft2 -=(alph * gradients)\n",
    "    #print(gradients)\n",
    "    \n",
    "            \n",
    "print('\\n cofft2 is', cofft2)\n",
    "\n",
    "# alph 0.001, 0.05, 0.1, 0.2, 0.5\n",
    "plt.plot(range(0,n_iterations), costf_history)\n",
    "plt.xlabel('number of iterations')\n",
    "plt.ylabel('cost function')\n",
    "\n",
    "plt.show()"
   ]
  },
  {
   "cell_type": "markdown",
   "metadata": {},
   "source": [
    "# Plot at learning rate = 0.05"
   ]
  },
  {
   "cell_type": "code",
   "execution_count": 9,
   "metadata": {},
   "outputs": [
    {
     "name": "stdout",
     "output_type": "stream",
     "text": [
      "\n",
      " cofft2 is [[ 2.09016729]\n",
      " [ 3.0167276 ]\n",
      " [ 3.99869694]]\n"
     ]
    },
    {
     "data": {
      "image/png": "[encoded data removed]",
      "text/plain": [
       "<matplotlib.figure.Figure at 0x11c6fd0b8>"
      ]
     },
     "metadata": {},
     "output_type": "display_data"
    }
   ],
   "source": [
    "alph =0.05 # learning rate 0.01,0.05,0.1 (negative) 0.5 (positive but small) 0.8\n",
    "n_iterations = 1000\n",
    "m = len(y) # arbitrary selected size: 50 100 150 250\n",
    "costf_history = [0]* n_iterations\n",
    "i = 0\n",
    "\n",
    "cofft2 = np.random.randn(3,1) # random initialization\n",
    "for iteration in range(n_iterations):\n",
    "    gradients = (2/m) * X_b1.T.dot(X_b1.dot(cofft2) - y)\n",
    "    for i in range(m):\n",
    "        costf =((1/m) * np.sum(cofft2.T.dot(X_b1[i]) - y[i])**2)\n",
    "    costf_history[iteration] = costf\n",
    "    cofft2 -=(alph * gradients)\n",
    "    #print(gradients)\n",
    "    \n",
    "            \n",
    "print('\\n cofft2 is', cofft2)\n",
    "\n",
    "# alph 0.001, 0.05, 0.1, 0.2, 0.5\n",
    "plt.plot(range(0,n_iterations), costf_history)\n",
    "plt.xlabel('number of iterations')\n",
    "plt.ylabel('cost function')\n",
    "\n",
    "plt.show()"
   ]
  },
  {
   "cell_type": "markdown",
   "metadata": {},
   "source": [
    "# Plot at learning rate = 0.1"
   ]
  },
  {
   "cell_type": "code",
   "execution_count": 10,
   "metadata": {},
   "outputs": [
    {
     "name": "stdout",
     "output_type": "stream",
     "text": [
      "\n",
      " cofft2 is [[ 2.09011548]\n",
      " [ 3.016745  ]\n",
      " [ 3.99872582]]\n"
     ]
    },
    {
     "data": {
      "image/png": "[encoded data removed]",
      "text/plain": [
       "<matplotlib.figure.Figure at 0x11c6436d8>"
      ]
     },
     "metadata": {},
     "output_type": "display_data"
    }
   ],
   "source": [
    "alph =0.1 # learning rate 0.01,0.05,0.1 (negative) 0.5 (positive but small) 0.8\n",
    "n_iterations = 1000\n",
    "m = len(y) # arbitrary selected size: 50 100 150 250\n",
    "costf_history = [0]* n_iterations\n",
    "i = 0\n",
    "\n",
    "cofft2 = np.random.randn(3,1) # random initialization\n",
    "for iteration in range(n_iterations):\n",
    "    gradients = (2/m) * X_b1.T.dot(X_b1.dot(cofft2) - y)\n",
    "    for i in range(m):\n",
    "        costf =((1/m) * np.sum(cofft2.T.dot(X_b1[i]) - y[i])**2)\n",
    "    costf_history[iteration] = costf\n",
    "    cofft2 -=(alph * gradients)\n",
    "    #print(gradients)\n",
    "    \n",
    "            \n",
    "print('\\n cofft2 is', cofft2)\n",
    "\n",
    "# alph 0.001, 0.05, 0.1, 0.2, 0.5\n",
    "plt.plot(range(0,n_iterations), costf_history)\n",
    "plt.xlabel('number of iterations')\n",
    "plt.ylabel('cost function')\n",
    "\n",
    "plt.show()"
   ]
  },
  {
   "cell_type": "markdown",
   "metadata": {},
   "source": [
    "# Plot at learning rate = 0.35"
   ]
  },
  {
   "cell_type": "code",
   "execution_count": 13,
   "metadata": {},
   "outputs": [
    {
     "name": "stdout",
     "output_type": "stream",
     "text": [
      "\n",
      " cofft2 is [[ -1.60847225e+92]\n",
      " [ -1.67212950e+92]\n",
      " [ -1.87820985e+92]]\n"
     ]
    },
    {
     "data": {
      "image/png": "[encoded data removed]",
      "text/plain": [
       "<matplotlib.figure.Figure at 0x11c8fb710>"
      ]
     },
     "metadata": {},
     "output_type": "display_data"
    }
   ],
   "source": [
    "alph =0.35 # learning rate 0.01,0.05,0.1 (negative) 0.5 (positive but small) 0.8\n",
    "n_iterations = 1000\n",
    "m = len(y) # arbitrary selected size: 50 100 150 250\n",
    "costf_history = [0]* n_iterations\n",
    "i = 0\n",
    "\n",
    "cofft2 = np.random.randn(3,1) # random initialization\n",
    "for iteration in range(n_iterations):\n",
    "    gradients = (2/m) * X_b1.T.dot(X_b1.dot(cofft2) - y)\n",
    "    for i in range(m):\n",
    "        costf =((1/m) * np.sum(cofft2.T.dot(X_b1[i]) - y[i])**2)\n",
    "    costf_history[iteration] = costf\n",
    "    cofft2 -=(alph * gradients)\n",
    "    #print(gradients)\n",
    "    \n",
    "            \n",
    "print('\\n cofft2 is', cofft2)\n",
    "\n",
    "# alph 0.001, 0.05, 0.1, 0.2, 0.5\n",
    "plt.plot(range(0,n_iterations), costf_history)\n",
    "plt.xlabel('number of iterations')\n",
    "plt.ylabel('cost function')\n",
    "\n",
    "plt.show()"
   ]
  },
  {
   "cell_type": "markdown",
   "metadata": {},
   "source": [
    "The above charts show the cost function with respect to number of iterations in addition to change the learnign rate and observe the changes. As we can see the smaller the alph the closer cofficient we get. we can see from alph 0.01 to 0.1 we are in good range. but from alph 0.35 to 0.5 we see that the passed the desired cofficient (2,3,4). Therefore, I will choose alph = 0.01 which fairly close.\n"
   ]
  },
  {
   "cell_type": "code",
   "execution_count": null,
   "metadata": {
    "collapsed": true
   },
   "outputs": [],
   "source": []
  }
 ],
 "metadata": {
  "kernelspec": {
   "display_name": "Python 3",
   "language": "python",
   "name": "python3"
  },
  "language_info": {
   "codemirror_mode": {
    "name": "ipython",
    "version": 3
   },
   "file_extension": ".py",
   "mimetype": "text/x-python",
   "name": "python",
   "nbconvert_exporter": "python",
   "pygments_lexer": "ipython3",
   "version": "3.6.3"
  }
 },
 "nbformat": 4,
 "nbformat_minor": 2
}
